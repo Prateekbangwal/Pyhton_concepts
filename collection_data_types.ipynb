{
 "cells": [
  {
   "cell_type": "markdown",
   "metadata": {},
   "source": [
    "Collections are useful to perform operations that must be applied to all of the items, and also makes it easier to handle collections of items read in from files.\n",
    "\n"
   ]
  },
  {
   "cell_type": "markdown",
   "metadata": {},
   "source": [
    "Sequence Types:  A sequence type is the one that supports the membership operator(in), the size function(len(), slices([])), and is iterable.\n",
    "Python provides five built-in sequence types\n",
    "    1) bytearray\n",
    "    2) bytes\n",
    "    3) list\n",
    "    4) str\n",
    "and 5) tuple"
   ]
  },
  {
   "cell_type": "markdown",
   "metadata": {},
   "source": [
    "Tuples:\n",
    "tuples are immutable, so we cannot replace, delete any of their items. if we want to be able to modify an ordered sequence we can use a list instead of a tuple. we can convert tuple to list by using list().\n",
    "\n",
    "The tuple data type can be called as a function- tuple() - with no arguments it returns empty tuple."
   ]
  },
  {
   "cell_type": "code",
   "execution_count": 5,
   "metadata": {},
   "outputs": [
    {
     "data": {
      "text/plain": [
       "('black', 'brown', 'blonde', 'red')"
      ]
     },
     "execution_count": 5,
     "metadata": {},
     "output_type": "execute_result"
    }
   ],
   "source": [
    "nos= 1,2,3\n",
    "tuple(nos)\n",
    "hair= \"black\", \"brown\", \"blonde\",\"red\"\n",
    "tuple(hair)"
   ]
  },
  {
   "cell_type": "markdown",
   "metadata": {},
   "source": [
    "Tuple provides just two methods, t.count(x) : no of times x is in tuple.\n",
    "t.index(x) : index position of the leftmost occurrence of object x in tuple t-  or raise a ValueError exception if no x in the tuple t.\n",
    "In addition, tuple can be used with the operators + (concatenation), *(replication), [](slice) , and with in and not in to test the membership.\n"
   ]
  },
  {
   "cell_type": "markdown",
   "metadata": {},
   "source": [
    "Named Tuples:\n",
    "A named tuple behaved same as plain tuple, and has same performance characteristics but is has ability to refer to items in the tuple by name as well as by index position, and this allows us to create aggregates of data items.\n",
    "The collections module provides the namedtuple()function "
   ]
  },
  {
   "cell_type": "code",
   "execution_count": 13,
   "metadata": {},
   "outputs": [
    {
     "ename": "AttributeError",
     "evalue": "type object 'Sale' has no attribute 'append'",
     "output_type": "error",
     "traceback": [
      "\u001b[0;31m---------------------------------------------------------------------------\u001b[0m",
      "\u001b[0;31mAttributeError\u001b[0m                            Traceback (most recent call last)",
      "\u001b[0;32m<ipython-input-13-0e5e08795682>\u001b[0m in \u001b[0;36m<module>\u001b[0;34m\u001b[0m\n\u001b[1;32m      1\u001b[0m \u001b[0;32mimport\u001b[0m \u001b[0mcollections\u001b[0m\u001b[0;34m\u001b[0m\u001b[0;34m\u001b[0m\u001b[0m\n\u001b[1;32m      2\u001b[0m \u001b[0msales\u001b[0m \u001b[0;34m=\u001b[0m \u001b[0mcollections\u001b[0m\u001b[0;34m.\u001b[0m\u001b[0mnamedtuple\u001b[0m\u001b[0;34m(\u001b[0m\u001b[0;34m\"Sale\"\u001b[0m\u001b[0;34m,\u001b[0m\u001b[0;34m\"productid customerid date quantity price\"\u001b[0m\u001b[0;34m)\u001b[0m\u001b[0;34m\u001b[0m\u001b[0;34m\u001b[0m\u001b[0m\n\u001b[0;32m----> 3\u001b[0;31m \u001b[0msales\u001b[0m\u001b[0;34m.\u001b[0m\u001b[0mappend\u001b[0m\u001b[0;34m(\u001b[0m\u001b[0mSale\u001b[0m\u001b[0;34m(\u001b[0m\u001b[0;36m432\u001b[0m\u001b[0;34m,\u001b[0m \u001b[0;36m874\u001b[0m\u001b[0;34m,\u001b[0m \u001b[0;34m\"1029\"\u001b[0m\u001b[0;34m,\u001b[0m \u001b[0;36m3\u001b[0m\u001b[0;34m,\u001b[0m \u001b[0;36m7.99\u001b[0m\u001b[0;34m)\u001b[0m\u001b[0;34m)\u001b[0m\u001b[0;34m\u001b[0m\u001b[0;34m\u001b[0m\u001b[0m\n\u001b[0m",
      "\u001b[0;31mAttributeError\u001b[0m: type object 'Sale' has no attribute 'append'"
     ]
    }
   ],
   "source": [
    "import collections\n",
    "sales = collections.namedtuple(\"Sale\",\"productid customerid date quantity price\")\n",
    "sales.append(Sale(432, 874, \"1029\", 3, 7.99))"
   ]
  },
  {
   "cell_type": "markdown",
   "metadata": {},
   "source": [
    "Lists\n",
    "Lists are mutable. \n",
    "list()\n",
    "List comprehensions:\n"
   ]
  },
  {
   "cell_type": "code",
   "execution_count": 17,
   "metadata": {},
   "outputs": [],
   "source": [
    "leaps = []\n",
    "for year in range(1900, 1940):\n",
    "    if(year % 4 == 0 and year % 100 != 0) or (year% 400 ==0):\n",
    "        leaps.append(year)\n",
    "        "
   ]
  },
  {
   "cell_type": "code",
   "execution_count": 19,
   "metadata": {},
   "outputs": [
    {
     "name": "stdout",
     "output_type": "stream",
     "text": [
      "[1904, 1908, 1912, 1916, 1920, 1924, 1928, 1932, 1936]\n"
     ]
    }
   ],
   "source": [
    "print(leaps)"
   ]
  },
  {
   "cell_type": "markdown",
   "metadata": {},
   "source": [
    "A list comprehension is an expression and a loop with an optional condtion enclosed in brackets where loop is used to generate items for the list, and where the condition can filter out unwanted items.\n",
    "for e.g [item for item in iterable]"
   ]
  },
  {
   "cell_type": "markdown",
   "metadata": {},
   "source": [
    "[expression for item in iterable]\n",
    "[expression for item in iterable if condition]\n",
    "which is equivalent to:\n",
    "temp = []\n",
    "for item in iterable:\n",
    "    if condition:\n",
    "        temp.apppend(expression)"
   ]
  },
  {
   "cell_type": "code",
   "execution_count": 22,
   "metadata": {},
   "outputs": [
    {
     "name": "stdout",
     "output_type": "stream",
     "text": [
      "[1904, 1908, 1912, 1916, 1920, 1924, 1928, 1932, 1936]\n"
     ]
    }
   ],
   "source": [
    "leaps = [y for y in range(1900, 1940) if (y%4 ==0 and y %100 !=0) or (y%400==0)]\n",
    "print(leaps)"
   ]
  },
  {
   "cell_type": "code",
   "execution_count": 25,
   "metadata": {},
   "outputs": [
    {
     "name": "stdout",
     "output_type": "stream",
     "text": [
      "['MSB', 'MSG', 'MSW', 'MMB', 'MMG', 'MMW', 'MLB', 'MLG', 'MLW', 'MXB', 'MXG', 'MXW', 'FSB', 'FSG', 'FSW', 'FMB', 'FMG', 'FMW', 'FLB', 'FLG', 'FLW']\n"
     ]
    }
   ],
   "source": [
    "# change following code into list comprehension\n",
    "codes = []\n",
    "for sex in \"MF\":\n",
    "    for size in \"SMLX\":\n",
    "        if sex == \"F\" and size == \"X\":\n",
    "            continue\n",
    "        for color in \"BGW\":\n",
    "            codes.append(sex + size + color)\n",
    "print(codes)"
   ]
  },
  {
   "cell_type": "code",
   "execution_count": 29,
   "metadata": {},
   "outputs": [
    {
     "name": "stdout",
     "output_type": "stream",
     "text": [
      "['MSB', 'MSG', 'MSw', 'MMB', 'MMG', 'MMw', 'MLB', 'MLG', 'MLw', 'MXB', 'MXG', 'MXw', 'FSB', 'FSG', 'FSw', 'FMB', 'FMG', 'FMw', 'FLB', 'FLG', 'FLw']\n"
     ]
    }
   ],
   "source": [
    "codes = [s+z+c for s in \"MF\"  for z in \"SMLX\" for c in \"BGw\" if not (s == \"F\" and z ==\"X\")]\n",
    "print(codes)"
   ]
  },
  {
   "cell_type": "markdown",
   "metadata": {},
   "source": [
    "Set types\n"
   ]
  }
 ],
 "metadata": {
  "kernelspec": {
   "display_name": "Python 3",
   "language": "python",
   "name": "python3"
  },
  "language_info": {
   "codemirror_mode": {
    "name": "ipython",
    "version": 3
   },
   "file_extension": ".py",
   "mimetype": "text/x-python",
   "name": "python",
   "nbconvert_exporter": "python",
   "pygments_lexer": "ipython3",
   "version": "3.6.8"
  }
 },
 "nbformat": 4,
 "nbformat_minor": 2
}
